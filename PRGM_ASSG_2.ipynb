{
 "cells": [
  {
   "cell_type": "code",
   "execution_count": 1,
   "id": "023367b0",
   "metadata": {},
   "outputs": [
    {
     "name": "stdout",
     "output_type": "stream",
     "text": [
      "Object `miles` not found.\n",
      "Object `Fahrenheit` not found.\n",
      "Object `calendar` not found.\n",
      "Object `equation` not found.\n",
      "Object `variable` not found.\n"
     ]
    }
   ],
   "source": [
    "1.\tWrite a Python program to convert kilometers to miles?\n",
    "2.\tWrite a Python program to convert Celsius to Fahrenheit?\n",
    "3.\tWrite a Python program to display calendar?\n",
    "4.\tWrite a Python program to solve quadratic equation?\n",
    "5.\tWrite a Python program to swap two variables without temp variable?\n"
   ]
  },
  {
   "cell_type": "code",
   "execution_count": 2,
   "id": "90479e57",
   "metadata": {},
   "outputs": [
    {
     "name": "stdout",
     "output_type": "stream",
     "text": [
      "enter kilometer value: 6\n",
      "6.00 kilometer equals to 3.73 miles\n"
     ]
    }
   ],
   "source": [
    "#q1 : to convert km into miles\n",
    "kilometer=float(input(\"enter kilometer value: \"))\n",
    "cov_fac=0.621371\n",
    "miles=kilometer*cov_fac\n",
    "print('%0.2f kilometer equals to %0.2f miles'%(kilometer,miles))"
   ]
  },
  {
   "cell_type": "code",
   "execution_count": 3,
   "id": "41c857c3",
   "metadata": {},
   "outputs": [
    {
     "name": "stdout",
     "output_type": "stream",
     "text": [
      "enter value of celcius:5\n",
      "5.00 celcius is equal to 41.00 fahrenheit\n"
     ]
    }
   ],
   "source": [
    "#q2:celsius to farenheit\n",
    "celcius=float(input(\"enter value of celcius:\"))\n",
    "conv_fac=1.8\n",
    "fahrenheit=((celcius*conv_fac)+32)\n",
    "print('%0.2f celcius is equal to %0.2f fahrenheit'%(celcius,fahrenheit))"
   ]
  },
  {
   "cell_type": "code",
   "execution_count": 4,
   "id": "882c1106",
   "metadata": {},
   "outputs": [
    {
     "name": "stdout",
     "output_type": "stream",
     "text": [
      "enter year:2020\n",
      "enter month:10\n",
      "    October 2020\n",
      "Mo Tu We Th Fr Sa Su\n",
      "          1  2  3  4\n",
      " 5  6  7  8  9 10 11\n",
      "12 13 14 15 16 17 18\n",
      "19 20 21 22 23 24 25\n",
      "26 27 28 29 30 31\n",
      "\n"
     ]
    }
   ],
   "source": [
    "#q3 display calendar\n",
    "import calendar\n",
    "yy=int(input(\"enter year:\"))\n",
    "mm=int(input(\"enter month:\"))\n",
    "print(calendar.month(yy,mm))\n",
    "\n"
   ]
  },
  {
   "cell_type": "code",
   "execution_count": 5,
   "id": "6cbad85a",
   "metadata": {},
   "outputs": [
    {
     "name": "stdout",
     "output_type": "stream",
     "text": [
      "enter value of a:3\n",
      "enter value of b:-7\n",
      "enter value of c:6\n",
      "the solution are (1.1666666666666667-0.7993052538854531j)\n",
      " & (1.1666666666666667+0.7993052538854531j)\n"
     ]
    }
   ],
   "source": [
    "#q4 quadratic equation\n",
    "import cmath\n",
    "\n",
    "a=int(input(\"enter value of a:\"))\n",
    "b=int(input(\"enter value of b:\"))\n",
    "c=int(input(\"enter value of c:\"))\n",
    "    \n",
    "d=(b**2)-(4*a*c)\n",
    "sol1=(-b-cmath.sqrt(d))/(2*a)\n",
    "sol2=(-b+cmath.sqrt(d))/(2*a)\n",
    "print('the solution are {0}\\n & {1}'.format(sol1,sol2))\n",
    "    "
   ]
  },
  {
   "cell_type": "code",
   "execution_count": 6,
   "id": "0f832e39",
   "metadata": {},
   "outputs": [
    {
     "name": "stdout",
     "output_type": "stream",
     "text": [
      "enter value of x:2\n",
      "enter value of y:7.9\n",
      "Before Swapping\n",
      "value of x: 2.0  and y 7.9\n",
      "After Swapping\n",
      "value of x: 7.9 and y 2.0\n"
     ]
    }
   ],
   "source": [
    "#q5 swap two variable\n",
    "x=float(input(\"enter value of x:\"))\n",
    "y=float(input(\"enter value of y:\"))\n",
    "print(\"Before Swapping\")\n",
    "print(\"value of x:\",x, \" and y\",y)\n",
    "x,y=y,x\n",
    "print(\"After Swapping\")\n",
    "print(\"value of x:\",x, \"and y\",y)"
   ]
  },
  {
   "cell_type": "code",
   "execution_count": null,
   "id": "eb93c4de",
   "metadata": {},
   "outputs": [],
   "source": []
  }
 ],
 "metadata": {
  "kernelspec": {
   "display_name": "Python 3 (ipykernel)",
   "language": "python",
   "name": "python3"
  },
  "language_info": {
   "codemirror_mode": {
    "name": "ipython",
    "version": 3
   },
   "file_extension": ".py",
   "mimetype": "text/x-python",
   "name": "python",
   "nbconvert_exporter": "python",
   "pygments_lexer": "ipython3",
   "version": "3.9.7"
  }
 },
 "nbformat": 4,
 "nbformat_minor": 5
}
